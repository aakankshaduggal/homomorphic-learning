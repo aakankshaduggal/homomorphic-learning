{
 "cells": [
  {
   "cell_type": "markdown",
   "id": "fd697c92-d2df-47dc-ae88-518b9cc67cc2",
   "metadata": {},
   "source": [
    "# TenSEAL Introduction"
   ]
  },
  {
   "cell_type": "markdown",
   "id": "61924432-e762-43b9-950d-db7d132e8be8",
   "metadata": {},
   "source": [
    "[TenSEAL](https://github.com/OpenMined/TenSEAL) is a library for doing homomorphic encryption operations on tensors, built on top of Microsoft SEAL. It provides ease of use through a Python API, while preserving efficiency by implementing most of its operations using C++."
   ]
  },
  {
   "cell_type": "markdown",
   "id": "ccd2dda6-d93f-47c0-9827-cc7901c459fe",
   "metadata": {},
   "source": [
    "Homomorphic Encryption  is an encryption technique that allows computations to be made on ciphertexts and generates results that when decrypted, correspond to the results of the same computations made on plaintexts. \n",
    "\n",
    "**TenSEAL** supports *addition, substraction and multiplication* of encrypted vectors of either \n",
    "1. **Integers** - using **[BFV - Brakerski-Fan-Vercauteren](https://www.inferati.com/blog/fhe-schemes-bfv)** which is the secong generation of FHE and is based on the RLWE - Ring-Learning with Errors. BFV is instantiated over two rings: 1) the plaintext ring which includes encodings of unencrypted or intelligible messages and 2) the ciphertext ring which includes encrypted messages. Similar to any other FHE scheme, BFV allows an untrusted party to induce meaningful computation over encrypted data without access to the decryption key. This is possible due to the homomorphism property which offers a map (or function) between the plaintext and ciphertext spaces that preserves the operations in these two spaces.\n",
    "2. **Real numbers** - using **[CKKS - Cheon-Kim-Kim-Song](https://www.inferati.com/blog/fhe-schemes-ckks)** which is Homomorphic Encryption for Arithmetic of Approximate Numbers (HEAAN), was proposed to offer homomorphic computation on real numbers. The main idea is to consider the noise, a.k.a. error $ e$ , which is introduced in Ring-Learning with Errors (Ring-LWE) based FHE schemes for security purposes, as part of the message $\\mu $ (which we call here payload) we want to encrypt. The payload and the noise are combined to generate the plaintext ($\\mu + e$) that we encrypt.\n",
    "\n",
    "Next we will look at the most important object of the library, the TenSEALContext."
   ]
  },
  {
   "cell_type": "markdown",
   "id": "c3d3975c-6afa-49ad-a302-670d2125ef22",
   "metadata": {},
   "source": [
    "## BFV(Brakerski-Fan-Vercauteren) Scheme"
   ]
  },
  {
   "cell_type": "markdown",
   "id": "0cbd9df4-ad8b-4b95-b991-09f49bacc614",
   "metadata": {},
   "source": [
    "#### TenSEAL Context\n",
    "\n",
    "The *TenSEALContext* is a special object that holds different encryption keys and parameters , so that we only need to use a single object to make your encrypted computation instead of managing all the keys and the HE details. Basically, start by creating a single **TenSEALContext** before getting into encrypted computation.\n"
   ]
  },
  {
   "cell_type": "code",
   "execution_count": 1,
   "id": "c50e4181-16d7-47f1-88d2-da233b823528",
   "metadata": {},
   "outputs": [],
   "source": [
    "import tenseal as ts"
   ]
  },
  {
   "cell_type": "markdown",
   "id": "5d1c60d7-be7f-41dc-a475-5f95b4a41b3c",
   "metadata": {},
   "source": [
    "We need to specify the Homomorphic Encryption scheme- BFV that we want to apply here and its parameters.\n",
    "1. `poly_modulus_degree` can be any power of 2 and is defined as the number\n",
    "of slots per plain text of elements to be encoded in single ciphertext in a\n",
    "2 by n/2 rectangular matrix.\n",
    "2. `plain_modulus` that must be prime such that t-1 be divisible by 2^N."
   ]
  },
  {
   "cell_type": "code",
   "execution_count": 2,
   "id": "b1db5b46-c213-4f88-95f9-832f26ec448c",
   "metadata": {},
   "outputs": [
    {
     "data": {
      "text/plain": [
       "<tenseal.enc_context.Context at 0x7f2969ce8490>"
      ]
     },
     "execution_count": 2,
     "metadata": {},
     "output_type": "execute_result"
    }
   ],
   "source": [
    "context = ts.context(ts.SCHEME_TYPE.BFV, poly_modulus_degree=4096, plain_modulus=1032193)\n",
    "context"
   ]
  },
  {
   "cell_type": "markdown",
   "id": "09587a6d-d1f0-4aab-98cc-3318a134ee52",
   "metadata": {},
   "source": [
    "**TenSEALContext** is now holding the secret key and we can decrypt without the need to provide it, however, we can choose to manage it as a separate object and will need to pass it to functions that require the secret key."
   ]
  },
  {
   "cell_type": "code",
   "execution_count": 3,
   "id": "0dbdbac0-de70-4912-8cf7-f763cdf1bfbc",
   "metadata": {},
   "outputs": [
    {
     "name": "stdout",
     "output_type": "stream",
     "text": [
      "Is the context private? Yes\n",
      "Is the context public? No\n",
      "Secret-key dropped\n",
      "Is the context private? No\n",
      "Is the context public? Yes\n"
     ]
    }
   ],
   "source": [
    "public_context = ts.context(ts.SCHEME_TYPE.BFV, poly_modulus_degree=4096, plain_modulus=1032193)\n",
    "print(\"Is the context private?\", (\"Yes\" if public_context.is_private() else \"No\"))\n",
    "print(\"Is the context public?\", (\"Yes\" if public_context.is_public() else \"No\"))\n",
    "\n",
    "sk = public_context.secret_key()\n",
    "\n",
    "# the context will drop the secret-key at this point\n",
    "public_context.make_context_public()\n",
    "print(\"Secret-key dropped\")\n",
    "print(\"Is the context private?\", (\"Yes\" if public_context.is_private() else \"No\"))\n",
    "print(\"Is the context public?\", (\"Yes\" if public_context.is_public() else \"No\"))"
   ]
  },
  {
   "cell_type": "markdown",
   "id": "0c714fc7-2f1c-432e-8b29-c5c969f59aae",
   "metadata": {},
   "source": [
    "Let's fetch the secret key from the `public_context` and see if that raises an error."
   ]
  },
  {
   "cell_type": "markdown",
   "id": "9a777779-6fc0-4d06-8a92-7f1f92888efc",
   "metadata": {},
   "source": [
    "## Encryption"
   ]
  },
  {
   "cell_type": "code",
   "execution_count": 4,
   "id": "7abd7333-f631-447c-90e5-d34936714c56",
   "metadata": {},
   "outputs": [
    {
     "name": "stdout",
     "output_type": "stream",
     "text": [
      "The size of the encryted vector is 6\n"
     ]
    },
    {
     "data": {
      "text/plain": [
       "<tenseal.tensors.bfvvector.BFVVector at 0x7f2969ce8790>"
      ]
     },
     "execution_count": 4,
     "metadata": {},
     "output_type": "execute_result"
    }
   ],
   "source": [
    "# Let's create an encrypted vector of integers\n",
    "plain_vector = [16, 25, 34, 43, 52, 70]\n",
    "encrypted_vector = ts.bfv_vector(context, plain_vector)\n",
    "print(\"The size of the encryted vector is\", encrypted_vector.size())\n",
    "encrypted_vector"
   ]
  },
  {
   "cell_type": "markdown",
   "id": "70785072-29fc-4ff0-aab3-362e195bcea5",
   "metadata": {},
   "source": [
    "### ciphertext to plaintext (c2p) \n",
    "\n",
    "*Ciphertext*, or encrypted text, is a series of randomized letters and numbers which humans cannot make any sense of. An encryption algorithm takes in a plaintext message, runs the algorithm on the plaintext, and produces a ciphertext. The ciphertext can be reversed through the process of decryption, to produce the original plaintext.\n",
    "And *Plaintext* can refer to anything which humans can understand and/or relate to. This may be as simple as English sentences, a script, or Java code. If you can make sense of what is written, then it is in plaintext.\n",
    "\n",
    "\n",
    "#### Addition"
   ]
  },
  {
   "cell_type": "code",
   "execution_count": 5,
   "id": "e59e6ed9-74f9-4f33-baef-f1bd37e4bbe8",
   "metadata": {},
   "outputs": [
    {
     "name": "stdout",
     "output_type": "stream",
     "text": [
      "[17, 27, 37, 47, 57, 76]\n"
     ]
    }
   ],
   "source": [
    "add_result = encrypted_vector + [1, 2, 3, 4, 5, 6]\n",
    "print(add_result.decrypt())"
   ]
  },
  {
   "cell_type": "markdown",
   "id": "3b1a0423-223d-4fd1-8c8c-c94cc341503c",
   "metadata": {},
   "source": [
    "#### Subtraction"
   ]
  },
  {
   "cell_type": "code",
   "execution_count": 6,
   "id": "e7716639-0480-45bb-8b2f-69460a1d97d5",
   "metadata": {},
   "outputs": [
    {
     "name": "stdout",
     "output_type": "stream",
     "text": [
      "[15, 23, 31, 39, 47, 64]\n"
     ]
    }
   ],
   "source": [
    "sub_result = encrypted_vector - [1, 2, 3, 4, 5, 6]\n",
    "print(sub_result.decrypt())"
   ]
  },
  {
   "cell_type": "markdown",
   "id": "d67b6fd4-8eb5-44d7-9805-7fa083ab809b",
   "metadata": {},
   "source": [
    "#### Multiplication"
   ]
  },
  {
   "cell_type": "code",
   "execution_count": 7,
   "id": "e45d9f14-cd93-4089-9571-ea393138e3e1",
   "metadata": {},
   "outputs": [
    {
     "name": "stdout",
     "output_type": "stream",
     "text": [
      "[16, 50, 102, 172, 260, 420]\n"
     ]
    }
   ],
   "source": [
    "mul_result = encrypted_vector * [1, 2, 3, 4, 5, 6]\n",
    "print(mul_result.decrypt())"
   ]
  },
  {
   "cell_type": "markdown",
   "id": "79fbf829-e438-4ec1-95ba-bf161c35c768",
   "metadata": {},
   "source": [
    "## Evaluation\n",
    "\n",
    "### ciphertext to ciphertext (c2c) evaluations"
   ]
  },
  {
   "cell_type": "markdown",
   "id": "b947ca23-df8c-4f6b-9d8e-24031d70fcff",
   "metadata": {},
   "source": [
    "#### Addition"
   ]
  },
  {
   "cell_type": "code",
   "execution_count": 8,
   "id": "b79b3d63-46b2-479d-adfa-746fedbfc109",
   "metadata": {},
   "outputs": [
    {
     "name": "stdout",
     "output_type": "stream",
     "text": [
      "[32, 50, 68, 86, 104, 140]\n"
     ]
    }
   ],
   "source": [
    "encrypted_add = add_result + sub_result\n",
    "print(encrypted_add.decrypt())"
   ]
  },
  {
   "cell_type": "markdown",
   "id": "2117795d-fdf2-4760-aa5e-e7b07b90a2b1",
   "metadata": {},
   "source": [
    "#### Subtraction"
   ]
  },
  {
   "cell_type": "code",
   "execution_count": 9,
   "id": "2ab64a4f-70b4-4ee8-94ef-eb5f2cfd907b",
   "metadata": {},
   "outputs": [
    {
     "name": "stdout",
     "output_type": "stream",
     "text": [
      "[16, 25, 34, 43, 52, 70]\n"
     ]
    }
   ],
   "source": [
    "encrypted_sub = encrypted_add - encrypted_vector\n",
    "print(encrypted_sub.decrypt())"
   ]
  },
  {
   "cell_type": "markdown",
   "id": "39238561-0c52-4372-8b71-9a3c3b62fdba",
   "metadata": {},
   "source": [
    "#### Multiplication"
   ]
  },
  {
   "cell_type": "code",
   "execution_count": 10,
   "id": "1d31901c-ffe6-4f3d-9320-3de01bf9dd39",
   "metadata": {},
   "outputs": [
    {
     "name": "stdout",
     "output_type": "stream",
     "text": [
      "[512, 1250, 2312, 3698, 5408, 9800]\n"
     ]
    }
   ],
   "source": [
    "encrypted_mul = encrypted_add * encrypted_sub\n",
    "print(encrypted_mul.decrypt())"
   ]
  },
  {
   "cell_type": "markdown",
   "id": "1382af9b-deab-476b-8bed-8088ffcee3b4",
   "metadata": {},
   "source": [
    "We just made both ciphertext to plaintext (c2p) and ciphertext to ciphertext (c2c) evaluations (add, sub and mul). \n",
    "\n",
    "NOTE : An important thing to note is that you should never encrypt your plaintext values to evaluate them with ciphertexts if they don't need to be kept private. That's because c2p evaluations are more efficient than c2c."
   ]
  },
  {
   "cell_type": "markdown",
   "id": "12a4c2ce-3e61-4219-9603-9600549fa539",
   "metadata": {},
   "source": [
    "## Conclusion and Future Work\n",
    "\n",
    "This TenSEAL introduction notebook helps us understand basic functionalities like addition, subtraction and multiplication in ciphertext2plaintext and ciphertext2ciphertext. This tool is easy to understand and use as compared to other python libraries in the opensource world. We will further see how we can try out benchmarking and see how long it takes for various operations to perform and also see how Machine Learning can be applied to the encrypted data. "
   ]
  }
 ],
 "metadata": {
  "kernelspec": {
   "display_name": "Python 3",
   "language": "python",
   "name": "python3"
  },
  "language_info": {
   "codemirror_mode": {
    "name": "ipython",
    "version": 3
   },
   "file_extension": ".py",
   "mimetype": "text/x-python",
   "name": "python",
   "nbconvert_exporter": "python",
   "pygments_lexer": "ipython3",
   "version": "3.8.6"
  }
 },
 "nbformat": 4,
 "nbformat_minor": 5
}
